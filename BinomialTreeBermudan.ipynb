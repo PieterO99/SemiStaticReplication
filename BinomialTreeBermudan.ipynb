{
 "cells": [
  {
   "cell_type": "code",
   "execution_count": 1,
   "metadata": {},
   "outputs": [],
   "source": [
    "import numpy as np\n",
    "import matplotlib.pyplot as plt\n",
    "\n",
    "mu = 0.001\n",
    "sigma = 0.01\n",
    "start_price = 5\n",
    "sr=5\n",
    "\n",
    "def StockpriceGBM(T,S0,mu,sigma,d=1):\n",
    "  WienerDifference = np.random.normal(0,T,d)\n",
    "  return S0*np.exp((mu - 0.5*sigma**2)*T + sigma*WienerDifference)"
   ]
  }
 ],
 "metadata": {
  "interpreter": {
   "hash": "aee8b7b246df8f9039afb4144a1f6fd8d2ca17a180786b69acc140d282b71a49"
  },
  "kernelspec": {
   "display_name": "Python 3.10.1 64-bit",
   "language": "python",
   "name": "python3"
  },
  "language_info": {
   "codemirror_mode": {
    "name": "ipython",
    "version": 3
   },
   "file_extension": ".py",
   "mimetype": "text/x-python",
   "name": "python",
   "nbconvert_exporter": "python",
   "pygments_lexer": "ipython3",
   "version": "3.10.1"
  },
  "orig_nbformat": 4
 },
 "nbformat": 4,
 "nbformat_minor": 2
}
