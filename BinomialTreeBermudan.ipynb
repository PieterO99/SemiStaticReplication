{
 "cells": [
  {
   "cell_type": "markdown",
   "source": [
    "Binomial Method Bermudan Option pricing"
   ],
   "metadata": {
    "collapsed": false
   }
  },
  {
   "cell_type": "code",
   "execution_count": 2,
   "outputs": [],
   "source": [
    "import numpy as np"
   ],
   "metadata": {
    "collapsed": false,
    "ExecuteTime": {
     "end_time": "2023-10-31T22:17:03.680335Z",
     "start_time": "2023-10-31T22:17:03.519253500Z"
    }
   }
  },
  {
   "cell_type": "code",
   "execution_count": 23,
   "outputs": [],
   "source": [
    "def binomial_tree_stock(S, T, sigma, n):\n",
    "    dt = T / n\n",
    "    u = np.exp(sigma * np.sqrt(dt))\n",
    "    d = 1 / u\n",
    "    \n",
    "    stock_tree = np.zeros((n + 1, n + 1))\n",
    "    stock_tree[0, 0] = S\n",
    "    \n",
    "    for i in range(1, n + 1):\n",
    "        stock_tree[i, i] = stock_tree[i - 1, i - 1] * u\n",
    "        for j in range(i, n + 1):\n",
    "            stock_tree[j, i - 1] = stock_tree[j - 1, i - 1] * d\n",
    "            \n",
    "    return stock_tree\n",
    "\n",
    "\n",
    "def call_pf(S, K):\n",
    "    return max(S - K, 0)\n",
    "\n",
    "\n",
    "def put_pf(S, K):\n",
    "    return max(K - S, 0)\n",
    "\n",
    "\n",
    "def payoff(S, K, style):\n",
    "    if style == 'call':\n",
    "        return call_pf(S, K)\n",
    "    elif style == 'put':\n",
    "        return put_pf(S, K)\n",
    "    else:\n",
    "        raise ValueError(\"Invalid option style. Style must be 'call' or 'put'.\")\n",
    "\n",
    "def binomial_bermudan_option_pricing(S, K, T, r, sigma, n, early_exercise_dates, style):\n",
    "    dt = T / n\n",
    "    u = np.exp(sigma * np.sqrt(dt))\n",
    "    d = 1 / u\n",
    "    p = (np.exp(r * dt) - d) / (u - d)\n",
    "\n",
    "    # Initialize option value matrix\n",
    "    option_values = np.zeros((n + 1, n + 1))\n",
    "\n",
    "    # Calculate the option values at expiration\n",
    "    for i in range(n + 1):\n",
    "        option_values[n][i] = payoff(S * (u ** i) * (d ** (n - i)), K, style)\n",
    "\n",
    "    # Calculate the option values at earlier exercise dates\n",
    "    for t in range(n - 1, -1, -1):\n",
    "        for i in range(t + 1):\n",
    "            if t * dt in early_exercise_dates:\n",
    "                option_values[t][i] = max(payoff(S * (u ** i) * (d ** (n - i)), K, style), np.exp(-r * dt) * (p * option_values[t + 1][i] + (1 - p) * option_values[t + 1][i + 1]))\n",
    "            else:\n",
    "                option_values[t][i] = np.exp(-r * dt) * (p * option_values[t + 1][i] + (1 - p) * option_values[t + 1][i + 1])\n",
    "\n",
    "    return option_values[0][0]"
   ],
   "metadata": {
    "collapsed": false,
    "ExecuteTime": {
     "end_time": "2023-10-31T22:37:05.468889200Z",
     "start_time": "2023-10-31T22:37:05.452544100Z"
    }
   }
  },
  {
   "cell_type": "code",
   "execution_count": 42,
   "outputs": [
    {
     "name": "stdout",
     "output_type": "stream",
     "text": [
      "Bermudan Call Option Price: 61.29978315118754\n"
     ]
    }
   ],
   "source": [
    "S0 = 100   # Initial stock price\n",
    "K = 100   # Strike price\n",
    "T = 1.0   # Time to maturity\n",
    "r = 0.09  # Risk-free interest rate\n",
    "sigma = 0.2  # Volatility\n",
    "n = 100   # Number of time steps in the binomial tree\n",
    "early_exercise_dates = [0.5, 0.8]  # List of early exercise dates\n",
    "\n",
    "bermudan_option_price = binomial_bermudan_option_pricing(S0, K, T, r, sigma, n, early_exercise_dates, 'put')\n",
    "print(\"Bermudan Call Option Price:\", bermudan_option_price)"
   ],
   "metadata": {
    "collapsed": false,
    "ExecuteTime": {
     "end_time": "2023-10-31T22:53:18.037409800Z",
     "start_time": "2023-10-31T22:53:18.024730100Z"
    }
   }
  },
  {
   "cell_type": "code",
   "execution_count": null,
   "outputs": [],
   "source": [],
   "metadata": {
    "collapsed": false
   }
  }
 ],
 "metadata": {
  "interpreter": {
   "hash": "aee8b7b246df8f9039afb4144a1f6fd8d2ca17a180786b69acc140d282b71a49"
  },
  "kernelspec": {
   "display_name": "Python 3.10.1 64-bit",
   "language": "python",
   "name": "python3"
  },
  "language_info": {
   "codemirror_mode": {
    "name": "ipython",
    "version": 3
   },
   "file_extension": ".py",
   "mimetype": "text/x-python",
   "name": "python",
   "nbconvert_exporter": "python",
   "pygments_lexer": "ipython3",
   "version": "3.10.1"
  },
  "orig_nbformat": 4
 },
 "nbformat": 4,
 "nbformat_minor": 2
}
