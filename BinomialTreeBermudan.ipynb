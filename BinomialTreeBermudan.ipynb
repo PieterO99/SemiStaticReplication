{
 "cells": [
  {
   "cell_type": "markdown",
   "source": [
    "Binomial Method Bermudan Option pricing"
   ],
   "metadata": {
    "collapsed": false
   }
  },
  {
   "cell_type": "code",
   "execution_count": 15,
   "outputs": [],
   "source": [
    "import matplotlib.pyplot as plt\n",
    "import numpy as np"
   ],
   "metadata": {
    "collapsed": false,
    "ExecuteTime": {
     "end_time": "2023-11-01T11:29:19.442358500Z",
     "start_time": "2023-11-01T11:29:18.583975900Z"
    }
   }
  },
  {
   "cell_type": "code",
   "execution_count": 39,
   "outputs": [],
   "source": [
    "def binomial_tree_stock(S, T, sigma, n):\n",
    "    dt = T / n\n",
    "    u = np.exp(sigma * np.sqrt(dt))\n",
    "    d = 1 / u\n",
    "    \n",
    "    stock_tree = np.zeros((n + 1, n + 1))\n",
    "    stock_tree[0, 0] = S\n",
    "    \n",
    "    for i in range(1, n + 1):\n",
    "        stock_tree[i, i] = stock_tree[i - 1, i - 1] * u\n",
    "        for j in range(i, n + 1):\n",
    "            stock_tree[j, i - 1] = stock_tree[j - 1, i - 1] * d\n",
    "            \n",
    "    return stock_tree\n",
    "\n",
    "\n",
    "def payoff(S, K, style):\n",
    "    if style == 'call':\n",
    "        return max(S - K, 0)\n",
    "    elif style == 'put':\n",
    "        return max(K - S, 0)\n",
    "    else:\n",
    "        raise ValueError(\"Invalid option style. Style must be 'call' or 'put'.\")\n",
    "\n",
    "\n",
    "def binomial_bermudan_option_pricing(S, K, T, r, sigma, n, early_exercise_dates, style):\n",
    "    dt = T / n\n",
    "    u = np.exp(sigma * np.sqrt(dt))\n",
    "    d = 1 / u\n",
    "    p = (np.exp(r * dt) - d) / (u - d)\n",
    "\n",
    "    # Initialize option value matrix\n",
    "    option_values = np.zeros((n + 1, n + 1))\n",
    "\n",
    "    # Calculate the option values at expiration\n",
    "    for i in range(n + 1):\n",
    "        option_values[n][i] = payoff(S * (u ** i) * (d ** (n - i)), K, style)\n",
    "\n",
    "    # Calculate the option values at earlier exercise dates\n",
    "    for t in range(n - 1, -1, -1):\n",
    "        for i in range(t + 1):\n",
    "            if t * dt in early_exercise_dates:\n",
    "                option_values[t][i] = max(payoff(S * (u ** i) * (d ** (t - i)), K, style), np.exp(-r * dt) * (p * option_values[t + 1][i + 1] + (1 - p) * option_values[t + 1][i]))\n",
    "            else:\n",
    "                option_values[t][i] = np.exp(-r * dt) * (p * option_values[t + 1][i] + (1 - p) * option_values[t + 1][i + 1])\n",
    "\n",
    "    return option_values\n",
    "\n",
    "\n",
    "def binomial_delta(option_values, sigma, T, n, S):\n",
    "    dt = T / n\n",
    "    u = np.exp(sigma * np.sqrt(dt))\n",
    "    d = 1 / u\n",
    "    \n",
    "    delta=np.zeros((n, n))\n",
    "    \n",
    "    for i in range(n):\n",
    "        for j in range(i + 1):\n",
    "            delta[i][j] = (option_values[i + 1][j + 1] - option_values[i + 1][j]) / (S * (d ** (i - j)) * (u ** (j + 1)) - S * (d ** (i + 1 - j)) * (u ** j))\n",
    "            \n",
    "    return delta\n",
    "    "
   ],
   "metadata": {
    "collapsed": false,
    "ExecuteTime": {
     "end_time": "2023-11-01T12:18:28.903797600Z",
     "start_time": "2023-11-01T12:18:28.894321900Z"
    }
   }
  },
  {
   "cell_type": "code",
   "execution_count": 44,
   "outputs": [
    {
     "name": "stdout",
     "output_type": "stream",
     "text": [
      "Bermudan Option Price: 9.991301541718087\n"
     ]
    }
   ],
   "source": [
    "S0 = 100   # Initial stock price\n",
    "K = 100   # Strike price\n",
    "T = 1.0   # Time to maturity\n",
    "r = 0.05  # Risk-free interest rate\n",
    "sigma = 0.3  # Volatility\n",
    "n = 100   # Number of time steps in the binomial tree\n",
    "early_exercise_dates = [0.4, 0.2, 0.3, 0.8]  # List of early exercise dates\n",
    "\n",
    "bermudan_option_prices = binomial_bermudan_option_pricing(S0, K, T, r, sigma, n, early_exercise_dates, 'put')\n",
    "print(\"Bermudan Option Price:\", bermudan_option_prices[0][0])"
   ],
   "metadata": {
    "collapsed": false,
    "ExecuteTime": {
     "end_time": "2023-11-01T12:18:55.405782400Z",
     "start_time": "2023-11-01T12:18:55.381809800Z"
    }
   }
  },
  {
   "cell_type": "code",
   "execution_count": 43,
   "outputs": [
    {
     "ename": "SyntaxError",
     "evalue": "cannot assign to literal (458471872.py, line 1)",
     "output_type": "error",
     "traceback": [
      "\u001B[1;36m  File \u001B[1;32m\"C:\\Users\\R-ALB\\AppData\\Local\\Temp\\ipykernel_25272\\458471872.py\"\u001B[1;36m, line \u001B[1;32m1\u001B[0m\n\u001B[1;33m    0.4,dt = T / n\u001B[0m\n\u001B[1;37m    ^\u001B[0m\n\u001B[1;31mSyntaxError\u001B[0m\u001B[1;31m:\u001B[0m cannot assign to literal\n"
     ]
    }
   ],
   "source": [
    "0.4,dt = T / n\n",
    "u = np.exp(sigma * np.sqrt(dt))\n",
    "d = 1 / u\n",
    "p = (np.exp(r * dt) - d) / (u - d)\n",
    "\n",
    "stock = binomial_tree_stock(S0, T, sigma, n)\n",
    "\n",
    "def sample_path(stock, delta, p):\n",
    "    \n",
    "    n = len(stock[0])\n",
    "    stock_path = [stock[0][0]]\n",
    "    delta_path = [delta[0][0]]\n",
    "    \n",
    "    j = 0\n",
    "    for i in range(1, n):\n",
    "        \n",
    "        up = np.random.binomial(1, p)\n",
    "        if up:\n",
    "            j += 1\n",
    "            stock_path.append(stock[i][j])\n",
    "            if i != n - 1:\n",
    "                delta_path.append(delta[i][j])\n",
    "        else:\n",
    "            stock_path.append(stock[i][j])\n",
    "            if i != n - 1:\n",
    "                delta_path.append(delta[i][j])\n",
    "    \n",
    "    return stock_path, delta_path\n",
    "\n",
    "bermudan_delta = binomial_delta(bermudan_option_prices, sigma, T, n, S0)\n",
    "stock_path_1, delta_path_1 = sample_path(stock, bermudan_delta, p)\n",
    "stock_path_2, delta_path_2 = sample_path(stock, bermudan_delta, p)\n",
    "\n",
    "time_values_s = np.linspace(0, 1, n + 1)\n",
    "\n",
    "plt.figure(figsize=(12, 5))\n",
    "plt.subplot(1, 2, 1)\n",
    "plt.plot(time_values_s, stock_path_1, label='Path 1', linestyle='-')\n",
    "plt.plot(time_values_s, stock_path_2, label='Path 2', linestyle='--')\n",
    "plt.axhline(y=K, color='r', linestyle='--', label='Strike Price')\n",
    "plt.xlabel('Time Step')\n",
    "plt.ylabel('Stock Price')\n",
    "plt.title('Stock Paths')\n",
    "plt.legend()\n",
    "\n",
    "time_values_o = np.linspace(0, 1, n)\n",
    "plt.subplot(1, 2, 2)\n",
    "plt.plot(time_values_o, delta_path_1, label='Path 1', linestyle='-')\n",
    "plt.plot(time_values_o, delta_path_2, label='Path 2', linestyle='--')\n",
    "plt.xlabel('Time Step')\n",
    "plt.ylabel('Delta')\n",
    "plt.title('Delta Paths')\n",
    "plt.legend()\n",
    "\n",
    "plt.show()"
   ],
   "metadata": {
    "collapsed": false,
    "ExecuteTime": {
     "end_time": "2023-11-01T12:18:45.524458500Z",
     "start_time": "2023-11-01T12:18:45.463305100Z"
    }
   }
  },
  {
   "cell_type": "code",
   "execution_count": null,
   "outputs": [],
   "source": [],
   "metadata": {
    "collapsed": false
   }
  }
 ],
 "metadata": {
  "interpreter": {
   "hash": "aee8b7b246df8f9039afb4144a1f6fd8d2ca17a180786b69acc140d282b71a49"
  },
  "kernelspec": {
   "display_name": "Python 3.10.1 64-bit",
   "language": "python",
   "name": "python3"
  },
  "language_info": {
   "codemirror_mode": {
    "name": "ipython",
    "version": 3
   },
   "file_extension": ".py",
   "mimetype": "text/x-python",
   "name": "python",
   "nbconvert_exporter": "python",
   "pygments_lexer": "ipython3",
   "version": "3.10.1"
  },
  "orig_nbformat": 4
 },
 "nbformat": 4,
 "nbformat_minor": 2
}
